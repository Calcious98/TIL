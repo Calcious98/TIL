{
  "nbformat": 4,
  "nbformat_minor": 0,
  "metadata": {
    "colab": {
      "provenance": [],
      "collapsed_sections": [],
      "include_colab_link": true
    },
    "kernelspec": {
      "name": "python3",
      "display_name": "Python 3"
    }
  },
  "cells": [
    {
      "cell_type": "markdown",
      "metadata": {
        "id": "view-in-github",
        "colab_type": "text"
      },
      "source": [
        "<a href=\"https://colab.research.google.com/github/Calcious98/TIL/blob/master/002_Binary_Classification.ipynb\" target=\"_parent\"><img src=\"https://colab.research.google.com/assets/colab-badge.svg\" alt=\"Open In Colab\"/></a>"
      ]
    },
    {
      "cell_type": "markdown",
      "metadata": {
        "id": "iEzHTyJXJZNs"
      },
      "source": [
        "# Binary Classification - 분류"
      ]
    },
    {
      "cell_type": "markdown",
      "source": [
        "Confusion Matrix"
      ],
      "metadata": {
        "id": "d5xVgUl3yns2"
      }
    },
    {
      "cell_type": "code",
      "metadata": {
        "id": "RbPgODpVzdHI"
      },
      "source": [
        "import warnings\n",
        "warnings.filterwarnings('ignore')"
      ],
      "execution_count": null,
      "outputs": []
    },
    {
      "cell_type": "markdown",
      "metadata": {
        "id": "5BK8PArfJkue"
      },
      "source": [
        "## 실습용 데이터 설정"
      ]
    },
    {
      "cell_type": "markdown",
      "metadata": {
        "id": "D48eXxVeDRa8"
      },
      "source": [
        "* pandas DataFrame\n",
        " * Default.csv - 신용카드 데이터"
      ]
    },
    {
      "cell_type": "code",
      "metadata": {
        "id": "gZKjqRpw6Kla",
        "colab": {
          "base_uri": "https://localhost:8080/"
        },
        "outputId": "ae1703c0-2d8d-45af-f1e1-b06484b31d67"
      },
      "source": [
        "import pandas as pd\n",
        "\n",
        "DF = pd.read_csv('https://raw.githubusercontent.com/rusita-ai/pyData/master/Default.csv')\n",
        "\n",
        "DF.info()"
      ],
      "execution_count": null,
      "outputs": [
        {
          "output_type": "stream",
          "name": "stdout",
          "text": [
            "<class 'pandas.core.frame.DataFrame'>\n",
            "RangeIndex: 10000 entries, 0 to 9999\n",
            "Data columns (total 4 columns):\n",
            " #   Column   Non-Null Count  Dtype  \n",
            "---  ------   --------------  -----  \n",
            " 0   default  10000 non-null  object \n",
            " 1   student  10000 non-null  object \n",
            " 2   balance  10000 non-null  float64\n",
            " 3   income   10000 non-null  float64\n",
            "dtypes: float64(2), object(2)\n",
            "memory usage: 312.6+ KB\n"
          ]
        }
      ]
    },
    {
      "cell_type": "code",
      "metadata": {
        "id": "367XnCW5ilaG",
        "colab": {
          "base_uri": "https://localhost:8080/",
          "height": 206
        },
        "outputId": "0da920b7-4a1a-4e67-fcdf-8af77f5a2be0"
      },
      "source": [
        "DF.head()"
      ],
      "execution_count": null,
      "outputs": [
        {
          "output_type": "execute_result",
          "data": {
            "text/plain": [
              "  default student      balance       income\n",
              "0      No      No   729.526495  44361.62507\n",
              "1      No     Yes   817.180407  12106.13470\n",
              "2      No      No  1073.549164  31767.13895\n",
              "3      No      No   529.250605  35704.49394\n",
              "4      No      No   785.655883  38463.49588"
            ],
            "text/html": [
              "\n",
              "  <div id=\"df-549970cb-2eae-420b-b90b-c70b04ab1915\">\n",
              "    <div class=\"colab-df-container\">\n",
              "      <div>\n",
              "<style scoped>\n",
              "    .dataframe tbody tr th:only-of-type {\n",
              "        vertical-align: middle;\n",
              "    }\n",
              "\n",
              "    .dataframe tbody tr th {\n",
              "        vertical-align: top;\n",
              "    }\n",
              "\n",
              "    .dataframe thead th {\n",
              "        text-align: right;\n",
              "    }\n",
              "</style>\n",
              "<table border=\"1\" class=\"dataframe\">\n",
              "  <thead>\n",
              "    <tr style=\"text-align: right;\">\n",
              "      <th></th>\n",
              "      <th>default</th>\n",
              "      <th>student</th>\n",
              "      <th>balance</th>\n",
              "      <th>income</th>\n",
              "    </tr>\n",
              "  </thead>\n",
              "  <tbody>\n",
              "    <tr>\n",
              "      <th>0</th>\n",
              "      <td>No</td>\n",
              "      <td>No</td>\n",
              "      <td>729.526495</td>\n",
              "      <td>44361.62507</td>\n",
              "    </tr>\n",
              "    <tr>\n",
              "      <th>1</th>\n",
              "      <td>No</td>\n",
              "      <td>Yes</td>\n",
              "      <td>817.180407</td>\n",
              "      <td>12106.13470</td>\n",
              "    </tr>\n",
              "    <tr>\n",
              "      <th>2</th>\n",
              "      <td>No</td>\n",
              "      <td>No</td>\n",
              "      <td>1073.549164</td>\n",
              "      <td>31767.13895</td>\n",
              "    </tr>\n",
              "    <tr>\n",
              "      <th>3</th>\n",
              "      <td>No</td>\n",
              "      <td>No</td>\n",
              "      <td>529.250605</td>\n",
              "      <td>35704.49394</td>\n",
              "    </tr>\n",
              "    <tr>\n",
              "      <th>4</th>\n",
              "      <td>No</td>\n",
              "      <td>No</td>\n",
              "      <td>785.655883</td>\n",
              "      <td>38463.49588</td>\n",
              "    </tr>\n",
              "  </tbody>\n",
              "</table>\n",
              "</div>\n",
              "      <button class=\"colab-df-convert\" onclick=\"convertToInteractive('df-549970cb-2eae-420b-b90b-c70b04ab1915')\"\n",
              "              title=\"Convert this dataframe to an interactive table.\"\n",
              "              style=\"display:none;\">\n",
              "        \n",
              "  <svg xmlns=\"http://www.w3.org/2000/svg\" height=\"24px\"viewBox=\"0 0 24 24\"\n",
              "       width=\"24px\">\n",
              "    <path d=\"M0 0h24v24H0V0z\" fill=\"none\"/>\n",
              "    <path d=\"M18.56 5.44l.94 2.06.94-2.06 2.06-.94-2.06-.94-.94-2.06-.94 2.06-2.06.94zm-11 1L8.5 8.5l.94-2.06 2.06-.94-2.06-.94L8.5 2.5l-.94 2.06-2.06.94zm10 10l.94 2.06.94-2.06 2.06-.94-2.06-.94-.94-2.06-.94 2.06-2.06.94z\"/><path d=\"M17.41 7.96l-1.37-1.37c-.4-.4-.92-.59-1.43-.59-.52 0-1.04.2-1.43.59L10.3 9.45l-7.72 7.72c-.78.78-.78 2.05 0 2.83L4 21.41c.39.39.9.59 1.41.59.51 0 1.02-.2 1.41-.59l7.78-7.78 2.81-2.81c.8-.78.8-2.07 0-2.86zM5.41 20L4 18.59l7.72-7.72 1.47 1.35L5.41 20z\"/>\n",
              "  </svg>\n",
              "      </button>\n",
              "      \n",
              "  <style>\n",
              "    .colab-df-container {\n",
              "      display:flex;\n",
              "      flex-wrap:wrap;\n",
              "      gap: 12px;\n",
              "    }\n",
              "\n",
              "    .colab-df-convert {\n",
              "      background-color: #E8F0FE;\n",
              "      border: none;\n",
              "      border-radius: 50%;\n",
              "      cursor: pointer;\n",
              "      display: none;\n",
              "      fill: #1967D2;\n",
              "      height: 32px;\n",
              "      padding: 0 0 0 0;\n",
              "      width: 32px;\n",
              "    }\n",
              "\n",
              "    .colab-df-convert:hover {\n",
              "      background-color: #E2EBFA;\n",
              "      box-shadow: 0px 1px 2px rgba(60, 64, 67, 0.3), 0px 1px 3px 1px rgba(60, 64, 67, 0.15);\n",
              "      fill: #174EA6;\n",
              "    }\n",
              "\n",
              "    [theme=dark] .colab-df-convert {\n",
              "      background-color: #3B4455;\n",
              "      fill: #D2E3FC;\n",
              "    }\n",
              "\n",
              "    [theme=dark] .colab-df-convert:hover {\n",
              "      background-color: #434B5C;\n",
              "      box-shadow: 0px 1px 3px 1px rgba(0, 0, 0, 0.15);\n",
              "      filter: drop-shadow(0px 1px 2px rgba(0, 0, 0, 0.3));\n",
              "      fill: #FFFFFF;\n",
              "    }\n",
              "  </style>\n",
              "\n",
              "      <script>\n",
              "        const buttonEl =\n",
              "          document.querySelector('#df-549970cb-2eae-420b-b90b-c70b04ab1915 button.colab-df-convert');\n",
              "        buttonEl.style.display =\n",
              "          google.colab.kernel.accessAllowed ? 'block' : 'none';\n",
              "\n",
              "        async function convertToInteractive(key) {\n",
              "          const element = document.querySelector('#df-549970cb-2eae-420b-b90b-c70b04ab1915');\n",
              "          const dataTable =\n",
              "            await google.colab.kernel.invokeFunction('convertToInteractive',\n",
              "                                                     [key], {});\n",
              "          if (!dataTable) return;\n",
              "\n",
              "          const docLinkHtml = 'Like what you see? Visit the ' +\n",
              "            '<a target=\"_blank\" href=https://colab.research.google.com/notebooks/data_table.ipynb>data table notebook</a>'\n",
              "            + ' to learn more about interactive tables.';\n",
              "          element.innerHTML = '';\n",
              "          dataTable['output_type'] = 'display_data';\n",
              "          await google.colab.output.renderOutput(dataTable, element);\n",
              "          const docLink = document.createElement('div');\n",
              "          docLink.innerHTML = docLinkHtml;\n",
              "          element.appendChild(docLink);\n",
              "        }\n",
              "      </script>\n",
              "    </div>\n",
              "  </div>\n",
              "  "
            ]
          },
          "metadata": {},
          "execution_count": 3
        }
      ]
    },
    {
      "cell_type": "markdown",
      "source": [
        "sklearn은 x만 문자로 받지 않고 y는 숫자 문자 다 받는다\n",
        "\n",
        "- y = default \n",
        "- x = balance "
      ],
      "metadata": {
        "id": "Bdc_imnjzZZi"
      }
    },
    {
      "cell_type": "markdown",
      "metadata": {
        "id": "NHd8or6BhwXU"
      },
      "source": [
        "# I. 탐색적 데이터 분석"
      ]
    },
    {
      "cell_type": "markdown",
      "metadata": {
        "id": "tAi0WJzVq5vI"
      },
      "source": [
        "> ## 1) 빈도분석"
      ]
    },
    {
      "cell_type": "code",
      "metadata": {
        "id": "k_2kqFcC7hUX",
        "colab": {
          "base_uri": "https://localhost:8080/"
        },
        "outputId": "f27e54c8-5495-4a2b-8866-262170aa3a5f"
      },
      "source": [
        "DF.default.value_counts()"
      ],
      "execution_count": null,
      "outputs": [
        {
          "output_type": "execute_result",
          "data": {
            "text/plain": [
              "No     9667\n",
              "Yes     333\n",
              "Name: default, dtype: int64"
            ]
          },
          "metadata": {},
          "execution_count": 4
        }
      ]
    },
    {
      "cell_type": "markdown",
      "metadata": {
        "id": "zlmktzDtrBbq"
      },
      "source": [
        "> ## 2) 분포 시각화"
      ]
    },
    {
      "cell_type": "code",
      "metadata": {
        "id": "fBolfb0WHicT",
        "colab": {
          "base_uri": "https://localhost:8080/",
          "height": 374
        },
        "outputId": "57b4f16a-3d52-427f-f230-727809df3a52"
      },
      "source": [
        "import matplotlib.pyplot as plt\n",
        "\n",
        "plt.figure(figsize = (9, 6))\n",
        "plt.boxplot([DF[DF.default == 'No'].balance,\n",
        "             DF[DF.default == 'Yes'].balance],\n",
        "            labels = ['No', 'Yes'])\n",
        "plt.show()"
      ],
      "execution_count": null,
      "outputs": [
        {
          "output_type": "display_data",
          "data": {
            "text/plain": [
              "<Figure size 648x432 with 1 Axes>"
            ],
            "image/png": "[encoded data removed]"
          },
          "metadata": {
            "needs_background": "light"
          }
        }
      ]
    },
    {
      "cell_type": "markdown",
      "metadata": {
        "id": "g1JIo8LEkhwQ"
      },
      "source": [
        "# II. Data Preprocessing"
      ]
    },
    {
      "cell_type": "markdown",
      "metadata": {
        "id": "iNkIhJwzrRqh"
      },
      "source": [
        "> ## 1) X, y"
      ]
    },
    {
      "cell_type": "code",
      "metadata": {
        "id": "o-4THCRbVzQT"
      },
      "source": [
        "X = DF[['balance']]\n",
        "y = DF['default']"
      ],
      "execution_count": null,
      "outputs": []
    },
    {
      "cell_type": "markdown",
      "metadata": {
        "id": "ywf1KbhercC4"
      },
      "source": [
        "> ## 2) Train & Test Split"
      ]
    },
    {
      "cell_type": "markdown",
      "metadata": {
        "id": "39kZZN8hrlu2"
      },
      "source": [
        "* 7: 3"
      ]
    },
    {
      "cell_type": "code",
      "metadata": {
        "id": "dbOnU18W8A7f",
        "colab": {
          "base_uri": "https://localhost:8080/"
        },
        "outputId": "14dcb205-c6a3-4382-efb8-6fe200890bee"
      },
      "source": [
        "from sklearn.model_selection import train_test_split\n",
        "\n",
        "X_train, X_test, y_train, y_test = train_test_split(X, y,\n",
        "                                                    test_size = 0.3,\n",
        "                                                    random_state = 2045)\n",
        "\n",
        "print('Train Data : ', X_train.shape, y_train.shape)\n",
        "print('Test Data : ', X_test.shape, y_test.shape)"
      ],
      "execution_count": null,
      "outputs": [
        {
          "output_type": "stream",
          "name": "stdout",
          "text": [
            "Train Data :  (7000, 1) (7000,)\n",
            "Test Data :  (3000, 1) (3000,)\n"
          ]
        }
      ]
    },
    {
      "cell_type": "markdown",
      "metadata": {
        "id": "0-uN43AXlAOt"
      },
      "source": [
        "# III. Modeling"
      ]
    },
    {
      "cell_type": "markdown",
      "metadata": {
        "id": "8wTG2IshsOL-"
      },
      "source": [
        "> ## 1) Train_Data로 모델 생성"
      ]
    },
    {
      "cell_type": "code",
      "metadata": {
        "id": "TtsgtR0M9CYM",
        "colab": {
          "base_uri": "https://localhost:8080/"
        },
        "outputId": "41383b23-fa0c-4e37-dd1b-40e0a2ad93b1"
      },
      "source": [
        "from sklearn.linear_model import LogisticRegression\n",
        "\n",
        "Model_lr = LogisticRegression()\n",
        "Model_lr.fit(X_train, y_train)"
      ],
      "execution_count": null,
      "outputs": [
        {
          "output_type": "execute_result",
          "data": {
            "text/plain": [
              "LogisticRegression()"
            ]
          },
          "metadata": {},
          "execution_count": 8
        }
      ]
    },
    {
      "cell_type": "markdown",
      "metadata": {
        "id": "uAakOsRFsa3y"
      },
      "source": [
        "> ## 2) Test_Data에 Model 적용"
      ]
    },
    {
      "cell_type": "code",
      "metadata": {
        "id": "oePrV61u9u9c"
      },
      "source": [
        "y_hat = Model_lr.predict(X_test)"
      ],
      "execution_count": null,
      "outputs": []
    },
    {
      "cell_type": "markdown",
      "source": [
        "* y_hat"
      ],
      "metadata": {
        "id": "Fhx3EuP4AM_o"
      }
    },
    {
      "cell_type": "code",
      "metadata": {
        "id": "leTMw2IRjlIi",
        "colab": {
          "base_uri": "https://localhost:8080/"
        },
        "outputId": "0bf9b038-322f-4d4e-8fd2-93c424cdb16d"
      },
      "source": [
        "y_hat "
      ],
      "execution_count": null,
      "outputs": [
        {
          "output_type": "execute_result",
          "data": {
            "text/plain": [
              "array(['No', 'No', 'No', ..., 'No', 'No', 'No'], dtype=object)"
            ]
          },
          "metadata": {},
          "execution_count": 10
        }
      ]
    },
    {
      "cell_type": "markdown",
      "metadata": {
        "id": "5wha25NBaVoI"
      },
      "source": [
        "# IV. Model Validation"
      ]
    },
    {
      "cell_type": "markdown",
      "metadata": {
        "id": "vRrKGD-wsqVQ"
      },
      "source": [
        "> ## 1) Confusion Matrix\n",
        "\n",
        "* 'No'(상환) 기준"
      ]
    },
    {
      "cell_type": "code",
      "metadata": {
        "colab": {
          "base_uri": "https://localhost:8080/"
        },
        "id": "BiR6fQtiXo12",
        "outputId": "1461caf2-f407-44a9-83a2-35922bc8c4d1"
      },
      "source": [
        "from sklearn.metrics import confusion_matrix\n",
        "\n",
        "confusion_matrix(y_test, y_hat)"
      ],
      "execution_count": null,
      "outputs": [
        {
          "output_type": "execute_result",
          "data": {
            "text/plain": [
              "array([[2888,    8],\n",
              "       [  72,   32]])"
            ]
          },
          "metadata": {},
          "execution_count": 11
        }
      ]
    },
    {
      "cell_type": "markdown",
      "source": [
        "![image.png](data:image/png;base64,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)"
      ],
      "metadata": {
        "id": "WBNMy7R71_lw"
      }
    },
    {
      "cell_type": "markdown",
      "source": [
        "positive랑 negative랑 반대로 되어있다"
      ],
      "metadata": {
        "id": "r8CAq7-o2DCj"
      }
    },
    {
      "cell_type": "markdown",
      "metadata": {
        "id": "aXzNFpf4X4KO"
      },
      "source": [
        "* 'Yes'(연체)(positive) 기준  --> labels을 지정해 줘라"
      ]
    },
    {
      "cell_type": "code",
      "metadata": {
        "id": "j0C98Nxe94LE",
        "colab": {
          "base_uri": "https://localhost:8080/"
        },
        "outputId": "a1f53b50-a9b7-4ad6-8a34-de4ffd896bc4"
      },
      "source": [
        "from sklearn.metrics import confusion_matrix\n",
        "\n",
        "confusion_matrix(y_test, y_hat, labels = ['Yes','No'])"
      ],
      "execution_count": null,
      "outputs": [
        {
          "output_type": "execute_result",
          "data": {
            "text/plain": [
              "array([[  32,   72],\n",
              "       [   8, 2888]])"
            ]
          },
          "metadata": {},
          "execution_count": 12
        }
      ]
    },
    {
      "cell_type": "markdown",
      "metadata": {
        "id": "VpILrFdRs0Ml"
      },
      "source": [
        "> ## 2) Accuracy, Precision, Recall - 'No(상환)'"
      ]
    },
    {
      "cell_type": "code",
      "metadata": {
        "id": "2y5rkjjJ-4ax",
        "colab": {
          "base_uri": "https://localhost:8080/"
        },
        "outputId": "30d1d41e-13ca-4f1b-f8be-250c77f1400a"
      },
      "source": [
        "from sklearn.metrics import accuracy_score, precision_score, recall_score\n",
        "\n",
        "print(accuracy_score(y_test, y_hat))\n",
        "print(precision_score(y_test, y_hat, pos_label = 'No'))\n",
        "print(recall_score(y_test, y_hat, pos_label = 'No'))"
      ],
      "execution_count": null,
      "outputs": [
        {
          "output_type": "stream",
          "name": "stdout",
          "text": [
            "0.9733333333333334\n",
            "0.9756756756756757\n",
            "0.9972375690607734\n"
          ]
        }
      ]
    },
    {
      "cell_type": "markdown",
      "metadata": {
        "id": "XNBKxFB0tAi8"
      },
      "source": [
        "> ## 3) Accuracy, Precision, Recall - 'Yes(연체)'"
      ]
    },
    {
      "cell_type": "code",
      "metadata": {
        "id": "vEhDy3LCDDh4",
        "colab": {
          "base_uri": "https://localhost:8080/"
        },
        "outputId": "c7f5ab9a-5a5f-448f-8666-cb57b5e48fa8"
      },
      "source": [
        "from sklearn.metrics import accuracy_score, precision_score, recall_score\n",
        "\n",
        "print(accuracy_score(y_test, y_hat))\n",
        "print(precision_score(y_test, y_hat, pos_label = 'Yes'))\n",
        "print(recall_score(y_test, y_hat, pos_label = 'Yes'))"
      ],
      "execution_count": null,
      "outputs": [
        {
          "output_type": "stream",
          "name": "stdout",
          "text": [
            "0.9733333333333334\n",
            "0.8\n",
            "0.3076923076923077\n"
          ]
        }
      ]
    },
    {
      "cell_type": "markdown",
      "metadata": {
        "id": "NnlZXsxdtJzo"
      },
      "source": [
        "> ## 4) F1_Score - 'No(상환)'"
      ]
    },
    {
      "cell_type": "code",
      "metadata": {
        "id": "Jhi4UzCEGh4a",
        "colab": {
          "base_uri": "https://localhost:8080/"
        },
        "outputId": "fada4c9a-1266-4a50-bdda-4f6cc9109684"
      },
      "source": [
        "from sklearn.metrics import f1_score\n",
        "\n",
        "f1_score(y_test, y_hat, pos_label = 'No')"
      ],
      "execution_count": null,
      "outputs": [
        {
          "output_type": "execute_result",
          "data": {
            "text/plain": [
              "0.9863387978142076"
            ]
          },
          "metadata": {},
          "execution_count": 15
        }
      ]
    },
    {
      "cell_type": "markdown",
      "metadata": {
        "id": "pIvuqDqVtRSx"
      },
      "source": [
        "> ## 5) F1_Score - 'Yes(연체)'"
      ]
    },
    {
      "cell_type": "code",
      "metadata": {
        "id": "thZGO3ROG_j9",
        "colab": {
          "base_uri": "https://localhost:8080/"
        },
        "outputId": "da7577b6-51db-4828-b997-a018121a677a"
      },
      "source": [
        "from sklearn.metrics import f1_score\n",
        "\n",
        "f1_score(y_test, y_hat, pos_label = 'Yes')"
      ],
      "execution_count": null,
      "outputs": [
        {
          "output_type": "execute_result",
          "data": {
            "text/plain": [
              "0.4444444444444444"
            ]
          },
          "metadata": {},
          "execution_count": 16
        }
      ]
    },
    {
      "cell_type": "markdown",
      "metadata": {
        "id": "v9jqJGyfZO5a"
      },
      "source": [
        "> ## 6) Classification Report"
      ]
    },
    {
      "cell_type": "code",
      "metadata": {
        "colab": {
          "base_uri": "https://localhost:8080/"
        },
        "id": "ytDghw8aZhGo",
        "outputId": "1ef34f45-b698-41c5-ebcd-8adc10b8ef96"
      },
      "source": [
        "from sklearn.metrics import classification_report\n",
        "\n",
        "print(classification_report(y_test, y_hat, \n",
        "                            target_names = ['No', 'Yes'],\n",
        "                            digits = 5))"
      ],
      "execution_count": null,
      "outputs": [
        {
          "output_type": "stream",
          "name": "stdout",
          "text": [
            "              precision    recall  f1-score   support\n",
            "\n",
            "          No    0.97568   0.99724   0.98634      2896\n",
            "         Yes    0.80000   0.30769   0.44444       104\n",
            "\n",
            "    accuracy                        0.97333      3000\n",
            "   macro avg    0.88784   0.65246   0.71539      3000\n",
            "weighted avg    0.96959   0.97333   0.96755      3000\n",
            "\n"
          ]
        }
      ]
    },
    {
      "cell_type": "markdown",
      "metadata": {
        "id": "CG0gWWIdtUy4"
      },
      "source": [
        "# \n",
        "# \n",
        "# \n",
        "# The End\n",
        "# \n",
        "# \n",
        "# "
      ]
    }
  ]
}